{
 "cells": [
  {
   "cell_type": "markdown",
   "id": "49bf9ecd",
   "metadata": {},
   "source": [
    "# Marcha Aleatoria"
   ]
  },
  {
   "cell_type": "markdown",
   "id": "81aa7ca5",
   "metadata": {},
   "source": [
    "Camila Cardenas Uribe - 202011696\n",
    "\n",
    "Código de aplicación tarea 1"
   ]
  },
  {
   "cell_type": "code",
   "execution_count": 2,
   "id": "d5c1aa8a",
   "metadata": {},
   "outputs": [],
   "source": [
    "'''Importacion y declaracion de las librerias'''\n",
    "import matplotlib.pyplot as plt \n",
    "'''Llamado a pyplot componente de la libreria \n",
    "matplotlib implementado para realizar graficos'''\n",
    "import numpy as np\n",
    "'''Libreria numpy implementa para el manejo de operaciones \n",
    "y simbolos algebraicos'''\n",
    "import random as rd\n",
    "'''libreria que genera variables aleatorias'''\n",
    "from tabulate import tabulate"
   ]
  },
  {
   "cell_type": "markdown",
   "id": "aa5639e5",
   "metadata": {},
   "source": [
    "La marcha aleatoria es una formalización matemática del camino, causada por sucesivos pasos aleatorios. En este sentido, dentro de la aplicación implementada en el siguiente código es definir un conjunto de estos pasos o sucesos aleatorios para establecer una correlación con los puntos desarrollados numericamente dentro de la tarea. Se analizara entonces la implemntacion de la distribuion binomial y el teorema del limite central partiendo de N pequeños, punto de referencia (x,t)=(0,0) y distribucion equivalente para la direccion en la cual se produce un paso (derecha o izquierda)."
   ]
  },
  {
   "cell_type": "code",
   "execution_count": 3,
   "id": "cea3904a",
   "metadata": {},
   "outputs": [
    {
     "data": {
      "text/plain": [
       "'\\n    Por simplicidad esta seccion solo define las variables \\n    si lo desea puede modificarlas\\n'"
      ]
     },
     "execution_count": 3,
     "metadata": {},
     "output_type": "execute_result"
    }
   ],
   "source": [
    "x=0\n",
    "'''Posición inicial, punto de referencia'''\n",
    "t, N= 200, 200\n",
    "n=list(range(5,105,10))\n",
    "'''t representativo y N numero de pasos'''\n",
    "a=1\n",
    "'''Longitud reportada para el paso'''\n",
    "rang=1000 \n",
    "'''rango de repeticiones de la posición'''\n",
    "right=1\n",
    "left=0\n",
    "average=[]\n",
    "average_2=[] \n",
    "'''Se sugiere mantener la relacion entera right>left'''\n",
    "'''\n",
    "    Por simplicidad esta seccion solo define las variables \n",
    "    si lo desea puede modificarlas\n",
    "'''"
   ]
  },
  {
   "cell_type": "code",
   "execution_count": 4,
   "id": "2645109e",
   "metadata": {},
   "outputs": [],
   "source": [
    "def random_step (N,t,x,a,right,left,rang):\n",
    "    '''\n",
    "        Esta funcion se implemnta para generar los pasos aleatorios\n",
    "        conservandolos en una lista (final_position) con dimension igual al rango de \n",
    "        iteraciones ingresado por el usuario. Cada posicion nueva se \n",
    "        ira agregando a la lista despues de pasar por n doble recorrido. La lista (step)\n",
    "        actualiza los valores aleatorio que arroja la funcion random en el intervalo\n",
    "        de izquierda-derecha implementado taambien por el usuario\n",
    "    '''\n",
    "    final_position=[]\n",
    "    for i in range (0,rang):\n",
    "        step=[]\n",
    "        for j in range (0,t):\n",
    "            one_step=rd.randint(left,right)\n",
    "            step.append(one_step)\n",
    "        number_step=step.count(1)\n",
    "        x = a*(2*number_step-N)\n",
    "        '''\n",
    "            Ecuacion que relaciona la posicion x despues de N pasos encontrada een el inciso 2.2\n",
    "        '''\n",
    "        final_position.append(x)\n",
    "        intervals= range(min(final_position), max(final_position)+2)\n",
    "    return final_position, intervals\n",
    "    "
   ]
  },
  {
   "cell_type": "markdown",
   "id": "2b1e1ede",
   "metadata": {},
   "source": [
    "# Solucion ejercicio 7"
   ]
  },
  {
   "cell_type": "markdown",
   "id": "5c90d7d1",
   "metadata": {},
   "source": [
    "Escribir un programa de computador que simule una marcha aleatoria (en una, dos o tres\n",
    "dimensiones, como prefiera) de N pasos en donde N sea un parámetro que se entra en el\n",
    "computador. El programa debe dar la posición r después de los N pasos. Para N fijo pero\n",
    "grande correr el programa un número importante de veces para poder construir un histograma (posición final en función del número de veces que se repite) y comparar con la ley de\n",
    "probabilidad predicha por el teorema central límite."
   ]
  },
  {
   "cell_type": "code",
   "execution_count": 5,
   "id": "28716ee1",
   "metadata": {},
   "outputs": [
    {
     "data": {
      "image/png": "[encoded data removed]",
      "text/plain": [
       "<Figure size 640x480 with 1 Axes>"
      ]
     },
     "metadata": {},
     "output_type": "display_data"
    }
   ],
   "source": [
    "'''\n",
    "    La funcion histogram-graphic implementa la libreria matplolib con la finalidad de generar un histograma\n",
    "    dada la lista de posiciones y el intervalo de la funcion anterior. Ademas, la funcion da forma al histograma \n",
    "    respetando el codigo de color RGB usado por Latex para un articulo. En los ejes se presenta  las cantidades adimencionales \n",
    "    consideradas para el ejemplo. \n",
    "'''\n",
    "\n",
    "def Histogram_graphic(final_position, intervals):\n",
    "    plt.hist(x=final_position, bins=intervals, color='#808080', rwidth=0.9)\n",
    "    plt.title('Histogram of positions')\n",
    "    plt.xlabel('Position')\n",
    "    plt.xticks(rotation=90)\n",
    "    plt.ylabel('Frequency')\n",
    "    '''\n",
    "        Diseño del histograma y llamado de la funcion random_step\n",
    "    '''\n",
    "    plt.show()\n",
    "final_position, intervals = random_step(N,t,x,a,right,left, rang)[0], random_step(N,t,x,a,right,left, rang)[1]\n",
    "Histogram_graphic(final_position,intervals)"
   ]
  },
  {
   "cell_type": "markdown",
   "id": "6b8b391a",
   "metadata": {},
   "source": [
    "# Solucion ejercicio 8"
   ]
  },
  {
   "cell_type": "code",
   "execution_count": 6,
   "id": "083050bb",
   "metadata": {},
   "outputs": [],
   "source": [
    "'''\n",
    "    La funcion average_distribution recibe dos listas que pueden ser modificadas por el usuario en la seccion de variables, \n",
    "    generalmente en vacias. De esta forma, se encarga de modificar las listas asignando a cada una el valor \n",
    "    de n (numero de pasos), ⟨r⟩ media esperada y ⟨r^2⟩ retornando una lista de listas. \n",
    "'''\n",
    "def average_distribution(average1,average2):\n",
    "    for r in n: \n",
    "        final_position=random_step(r,r,x,a,right,left, rang)[0]\n",
    "        mean=np.mean(final_position)\n",
    "        average1.append(mean)\n",
    "        '''\n",
    "        Recorriedo en el rango de pasos n, parametro introducido por el usuario en la seeccion de variables. Por otra parte,\n",
    "        el componente mean perteneciente a la libreria numpy calcula la media lista final-osition importada del punto anterior\n",
    "        de la funccion random-step\n",
    "        '''\n",
    "        for k in final_position: \n",
    "            var=np.var(k)\n",
    "            average2.append(var)\n",
    "    return n, average1, average2\n"
   ]
  },
  {
   "cell_type": "code",
   "execution_count": 7,
   "id": "b17b66a7",
   "metadata": {},
   "outputs": [
    {
     "name": "stdout",
     "output_type": "stream",
     "text": [
      "  n     ⟨r⟩    ⟨r^2⟩\n",
      "---  ------  -------\n",
      "  5   0.042        0\n",
      " 15  -0.028        0\n",
      " 25   0.04         0\n",
      " 35   0.214        0\n",
      " 45   0.082        0\n",
      " 55  -0.156        0\n",
      " 65  -0.196        0\n",
      " 75   0.176        0\n",
      " 85  -0.288        0\n",
      " 95  -0.408        0\n"
     ]
    }
   ],
   "source": [
    "'''\n",
    "    Se dara formato de tabla al retorno de la funcion average_distribution con la finalidad de incluir estos valores \n",
    "    dentro de un informe de resultados en Latex. Se toma cada elemento en la posicion i de cada lista para generar una lista \n",
    "    de listas igual a:\n",
    "    [[n_1,\"⟨r_1⟩\", \"⟨(r_1)^2⟩\"], [n_2,\"⟨r_2⟩\", \"⟨(r_2)^2⟩\"], ... , [n_k,\"⟨r_k⟩\", \"⟨(r_k)^2⟩\"]] con k= rango de pasos implementados. \n",
    "    con esta lista se usa la funcion, tabulate, y se presentan los datos\n",
    "'''\n",
    "list_tabule=[]\n",
    "list_n=average_distribution(average,average_2)[0]\n",
    "list_a1=average_distribution(average,average_2)[1]\n",
    "list_a2=average_distribution(average,average_2)[2]\n",
    "ele=len(list_n)\n",
    "for i in range (ele):\n",
    "    list_tabule.append([list_n[i],list_a1[i],list_a2[i]])\n",
    "print(tabulate(list_tabule, headers=[\"n\", \"⟨r⟩\", \"⟨r^2⟩\"]))"
   ]
  },
  {
   "cell_type": "code",
   "execution_count": 12,
   "id": "c7d9cc5e",
   "metadata": {},
   "outputs": [
    {
     "name": "stdout",
     "output_type": "stream",
     "text": [
      "0.571\n"
     ]
    }
   ],
   "source": [
    "'''\n",
    "   Constante de difusion\n",
    "   Del punto 6 para n = 5\n",
    "'''\n",
    "D= round (((a**2)/2*np.pi)-1,3)\n",
    "print (D)"
   ]
  }
 ],
 "metadata": {
  "kernelspec": {
   "display_name": "Python 3 (ipykernel)",
   "language": "python",
   "name": "python3"
  },
  "language_info": {
   "codemirror_mode": {
    "name": "ipython",
    "version": 3
   },
   "file_extension": ".py",
   "mimetype": "text/x-python",
   "name": "python",
   "nbconvert_exporter": "python",
   "pygments_lexer": "ipython3",
   "version": "3.9.13"
  }
 },
 "nbformat": 4,
 "nbformat_minor": 5
}
